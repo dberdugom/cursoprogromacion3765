{
  "nbformat": 4,
  "nbformat_minor": 0,
  "metadata": {
    "colab": {
      "provenance": []
    },
    "kernelspec": {
      "name": "python3",
      "display_name": "Python 3"
    },
    "language_info": {
      "name": "python"
    }
  },
  "cells": [
    {
      "cell_type": "code",
      "metadata": {
        "colab": {
          "base_uri": "https://localhost:8080/"
        },
        "id": "Z0VIRGRaQ7pk",
        "outputId": "117378d6-c03a-4518-facd-29d63e399593"
      },
      "source": [
        "print(\"hola mundo\")"
      ],
      "execution_count": null,
      "outputs": [
        {
          "output_type": "stream",
          "name": "stdout",
          "text": [
            "hola mundo\n"
          ]
        }
      ]
    },
    {
      "cell_type": "markdown",
      "metadata": {
        "id": "fuAxxlA7RGBV"
      },
      "source": [
        "Primera clase de python"
      ]
    },
    {
      "cell_type": "markdown",
      "metadata": {
        "id": "ghoAhH6caqY3"
      },
      "source": [
        "CADENA O STRING"
      ]
    },
    {
      "cell_type": "code",
      "metadata": {
        "colab": {
          "base_uri": "https://localhost:8080/"
        },
        "id": "g0HEIvlQRJK8",
        "outputId": "bb6e7ae9-ac5a-4fc7-c3bd-f6f461e46765"
      },
      "source": [
        "nombre = \"Dagoberto\"\n",
        "print(nombre)"
      ],
      "execution_count": null,
      "outputs": [
        {
          "output_type": "stream",
          "name": "stdout",
          "text": [
            "Dagoberto\n"
          ]
        }
      ]
    },
    {
      "cell_type": "code",
      "metadata": {
        "colab": {
          "base_uri": "https://localhost:8080/",
          "height": 131
        },
        "id": "N0Q8tBJmZX-n",
        "outputId": "a3a0ba35-988f-42cd-dc24-bbd4712f5fec"
      },
      "source": [
        "nombre docente = \"Dagoberto\"\n",
        "print(nombre docente)"
      ],
      "execution_count": null,
      "outputs": [
        {
          "output_type": "error",
          "ename": "SyntaxError",
          "evalue": "ignored",
          "traceback": [
            "\u001b[0;36m  File \u001b[0;32m\"<ipython-input-3-1d90959a9837>\"\u001b[0;36m, line \u001b[0;32m1\u001b[0m\n\u001b[0;31m    nombre docente = \"Dagoberto\"\u001b[0m\n\u001b[0m                 ^\u001b[0m\n\u001b[0;31mSyntaxError\u001b[0m\u001b[0;31m:\u001b[0m invalid syntax\n"
          ]
        }
      ]
    },
    {
      "cell_type": "code",
      "metadata": {
        "colab": {
          "base_uri": "https://localhost:8080/"
        },
        "id": "SUgvd_pxZihj",
        "outputId": "4836ada0-777b-4d35-e7c3-ab9d6ad98e73"
      },
      "source": [
        "nombre_docente = \"Dagoberto\"\n",
        "print(nombre_docente)"
      ],
      "execution_count": null,
      "outputs": [
        {
          "output_type": "stream",
          "name": "stdout",
          "text": [
            "Dagoberto\n"
          ]
        }
      ]
    },
    {
      "cell_type": "markdown",
      "metadata": {
        "id": "H_pcGIzJaEoe"
      },
      "source": [
        "Tipo dato Flotante\n"
      ]
    },
    {
      "cell_type": "code",
      "metadata": {
        "colab": {
          "base_uri": "https://localhost:8080/"
        },
        "id": "101iGdjMaHIy",
        "outputId": "0dfdd8f2-0b72-423e-f950-e8093f447fb5"
      },
      "source": [
        "estatura = 1.66\n",
        "print(estatura)"
      ],
      "execution_count": null,
      "outputs": [
        {
          "output_type": "stream",
          "name": "stdout",
          "text": [
            "1.66\n"
          ]
        }
      ]
    },
    {
      "cell_type": "code",
      "metadata": {
        "colab": {
          "base_uri": "https://localhost:8080/",
          "height": 131
        },
        "id": "cknYyONraPqY",
        "outputId": "36545cb8-62b4-42a5-94c0-15a0014fbc59"
      },
      "source": [
        "estatura = 1.66 mts\n",
        "print(estatura)"
      ],
      "execution_count": null,
      "outputs": [
        {
          "output_type": "error",
          "ename": "SyntaxError",
          "evalue": "ignored",
          "traceback": [
            "\u001b[0;36m  File \u001b[0;32m\"<ipython-input-6-96e1a3c6f27b>\"\u001b[0;36m, line \u001b[0;32m1\u001b[0m\n\u001b[0;31m    estatura = 1.66 mts\u001b[0m\n\u001b[0m                      ^\u001b[0m\n\u001b[0;31mSyntaxError\u001b[0m\u001b[0;31m:\u001b[0m invalid syntax\n"
          ]
        }
      ]
    },
    {
      "cell_type": "code",
      "metadata": {
        "colab": {
          "base_uri": "https://localhost:8080/"
        },
        "id": "wBRVOg1JadcU",
        "outputId": "b49e419e-f3dd-4c9b-8cd9-ce52508ab367"
      },
      "source": [
        "estatura = 1.80\n",
        "print(estatura)"
      ],
      "execution_count": null,
      "outputs": [
        {
          "output_type": "stream",
          "name": "stdout",
          "text": [
            "1.8\n"
          ]
        }
      ]
    },
    {
      "cell_type": "markdown",
      "metadata": {
        "id": "dM11DaacauWn"
      },
      "source": [
        "tipo de dato ENTERO O INT"
      ]
    },
    {
      "cell_type": "code",
      "metadata": {
        "id": "pe-1Mrdoa-cK"
      },
      "source": [],
      "execution_count": null,
      "outputs": []
    },
    {
      "cell_type": "code",
      "metadata": {
        "colab": {
          "base_uri": "https://localhost:8080/"
        },
        "id": "VG9DyH0maxRS",
        "outputId": "70ff6f5e-4a4d-4903-8452-ece8cf4756f8"
      },
      "source": [
        "anonac = 1985\n",
        "print(anonac)"
      ],
      "execution_count": null,
      "outputs": [
        {
          "output_type": "stream",
          "name": "stdout",
          "text": [
            "1985\n"
          ]
        }
      ]
    },
    {
      "cell_type": "code",
      "metadata": {
        "colab": {
          "base_uri": "https://localhost:8080/"
        },
        "id": "Pp-8otUVbsRG",
        "outputId": "5aa8f519-f130-4014-a73b-d4e9d59aa92a"
      },
      "source": [
        "nombre = input(\"Digite su nombre \")\n",
        "print(nombre)"
      ],
      "execution_count": null,
      "outputs": [
        {
          "output_type": "stream",
          "name": "stdout",
          "text": [
            "Digite su nombre Dagoberto\n",
            "Dagoberto\n"
          ]
        }
      ]
    },
    {
      "cell_type": "code",
      "metadata": {
        "colab": {
          "base_uri": "https://localhost:8080/"
        },
        "id": "3Sq8OcdWcX4E",
        "outputId": "fd702f47-7873-4168-d0d7-367520ebbd8e"
      },
      "source": [
        "Dir_Per = \"calle  9a # 5-22\"\n",
        "print(Dir_Per)\n",
        "print(Dir_Per)\n",
        "print(Dir_Per)"
      ],
      "execution_count": 1,
      "outputs": [
        {
          "output_type": "stream",
          "name": "stdout",
          "text": [
            "calle  9a # 5-22\n",
            "calle  9a # 5-22\n",
            "calle  9a # 5-22\n"
          ]
        }
      ]
    }
  ]
}